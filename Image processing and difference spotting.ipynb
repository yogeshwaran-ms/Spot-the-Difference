{
 "cells": [
  {
   "cell_type": "code",
   "execution_count": 2,
   "metadata": {},
   "outputs": [],
   "source": [
    "# import the necessary packages\n",
    "from skimage.measure import compare_ssim\n",
    "import argparse\n",
    "import imutils\n",
    "import cv2\n",
    "import urllib\n",
    "import numpy as np"
   ]
  },
  {
   "cell_type": "code",
   "execution_count": 2,
   "metadata": {},
   "outputs": [
    {
     "data": {
      "text/plain": [
       "True"
      ]
     },
     "execution_count": 2,
     "metadata": {},
     "output_type": "execute_result"
    }
   ],
   "source": [
    "#Getting the first image\n",
    "# Replace the URL with your own IPwebcam shot.jpg IP:port\n",
    "url='http://192.168.43.1:8080/shot.jpg'\n",
    "url_response = urllib.request.urlopen(url)\n",
    "img_array = np.array(bytearray(url_response.read()), dtype=np.uint8)\n",
    "img1 = cv2.imdecode(img_array, -1)\n",
    "cv2.imwrite('original.jpg',img1)"
   ]
  },
  {
   "cell_type": "code",
   "execution_count": 3,
   "metadata": {},
   "outputs": [
    {
     "data": {
      "text/plain": [
       "True"
      ]
     },
     "execution_count": 3,
     "metadata": {},
     "output_type": "execute_result"
    }
   ],
   "source": [
    "#Getting the second image\n",
    "# Replace the URL with your own IPwebcam shot.jpg IP:port\n",
    "url='http://192.168.43.1:8080/shot.jpg'\n",
    "url_response = urllib.request.urlopen(url)\n",
    "img_array = np.array(bytearray(url_response.read()), dtype=np.uint8)\n",
    "img2 = cv2.imdecode(img_array, -1)\n",
    "cv2.imwrite('changed.jpg',img2)"
   ]
  },
  {
   "cell_type": "code",
   "execution_count": 5,
   "metadata": {},
   "outputs": [
    {
     "name": "stdout",
     "output_type": "stream",
     "text": [
      "SSIM: 0.520472439696659\n",
      "135.0\n"
     ]
    }
   ],
   "source": [
    "#Identifying the difference\n",
    "# load the two input images\n",
    "imageA = cv2.imread('original.jpg')\n",
    "imageB = cv2.imread('changed.jpg')\n",
    "\n",
    "# convert the images to grayscale\n",
    "grayA = cv2.cvtColor(imageA, cv2.COLOR_BGR2GRAY)\n",
    "grayB = cv2.cvtColor(imageB, cv2.COLOR_BGR2GRAY)\n",
    "\n",
    "# compute the Structural Similarity Index (SSIM) between the two\n",
    "# images, ensuring that the difference image is returned\n",
    "(score, diff) = compare_ssim(grayA, grayB, full=True)\n",
    "diff = (diff * 255).astype(\"uint8\")\n",
    "print(\"SSIM: {}\".format(score))\n",
    "\n",
    "# threshold the difference image, followed by finding contours to\n",
    "# obtain the regions of the two input images that differ\n",
    "retval,thresh = cv2.threshold(diff,0,255,cv2.THRESH_BINARY_INV | cv2.THRESH_OTSU  )\n",
    "cnts = cv2.findContours(thresh.copy(), cv2.RETR_EXTERNAL,cv2.CHAIN_APPROX_SIMPLE)\n",
    "cnts = cnts[0] if imutils.is_cv2() else cnts[1]\n",
    "print(retval)\n",
    "\n",
    "# loop over the contours\n",
    "for c in cnts:\n",
    "# compute the bounding circle of the contour and then draw the\n",
    "# bounding circle on modified images to represent where the two\n",
    "# images differ\n",
    "    (x,y),radius = cv2.minEnclosingCircle(c)\n",
    "    center = (int(x),int(y))\n",
    "    radius = int(radius)\n",
    "    cv2.circle(imageB,center,radius,(0,255,0),2)\n",
    "    \n",
    "# show the output images\n",
    "cv2.imshow(\"Original\", imageA)\n",
    "cv2.imshow(\"Modified\", imageB)\n",
    "cv2.imshow(\"Diff\", diff)\n",
    "cv2.imshow(\"Thresh\",thresh)\n",
    "k = cv2.waitKey(0)\n",
    "if k == 27:         # wait for ESC key to exit\n",
    "    cv2.destroyAllWindows()\n",
    "elif k == ord('s'): # wait for 's' key to save and exit\n",
    "    cv2.imwrite('original.jpg',imageA)\n",
    "    cv2.imwrite('changed.jpg',imageB)\n",
    "    cv2.imwrite('difference.jpg',diff)\n",
    "    cv2.imwrite('thershold.jpg',thresh)\n",
    "    cv2.destroyAllWindows()"
   ]
  },
  {
   "cell_type": "code",
   "execution_count": null,
   "metadata": {},
   "outputs": [],
   "source": []
  }
 ],
 "metadata": {
  "kernelspec": {
   "display_name": "Python 3",
   "language": "python",
   "name": "python3"
  },
  "language_info": {
   "codemirror_mode": {
    "name": "ipython",
    "version": 3
   },
   "file_extension": ".py",
   "mimetype": "text/x-python",
   "name": "python",
   "nbconvert_exporter": "python",
   "pygments_lexer": "ipython3",
   "version": "3.5.6"
  }
 },
 "nbformat": 4,
 "nbformat_minor": 2
}
